{
 "cells": [
  {
   "cell_type": "markdown",
   "metadata": {},
   "source": [
    "# Statistics\n",
    "\n",
    "Statistics is the science of collecting, organizing, analyzing, interpreting and presenting the data in order to draw conclusions and such that, it forms the basis of data analysis in the data science.\n",
    "\n",
    "### Applications:\n",
    "\n",
    " - Marketing\n",
    " - Academic Research\n",
    " - Finance\n",
    " - Retailing\n",
    " - Operating Management"
   ]
  },
  {
   "cell_type": "markdown",
   "metadata": {},
   "source": [
    "## Types of statistics:\n",
    "\n",
    " 1. Descriptive Statistics:\n",
    " \n",
    "    Descriptive statistics deals with the numbers, summarizing the data, presenting numerical facts, visualization etc.\n",
    "\n",
    " 2. Inferencial Statistics:\n",
    " \n",
    "    Inferencial statistics is estimate, decision, prediction or generalization about the population based on a sample."
   ]
  },
  {
   "cell_type": "markdown",
   "metadata": {},
   "source": [
    "## Types of data:\n",
    "\n",
    " 1. Numerical data:\n",
    "    \n",
    "    Numerical data is represented as measure of values or counts expressed as quantitative numbers also referred as quantitative data.\n",
    "\n",
    "    Types of numerical data:\n",
    "\n",
    "     - Continuous data:\n",
    "\n",
    "       Continuous data is also known as continuous variables also referred as quantitative data that can infite number of values within certain range.\n",
    "\n",
    "     - Descrete data:\n",
    "\n",
    "       Continuous data is also known as descrete variables also referred as quantitative data that can take specific distinct values within defined set or range.\n",
    "\n",
    " 2. Categorical data:\n",
    "\n",
    "    Categorical data also referred as qualitative data, that can be divided into further categories named as groups or labels.\n",
    "\n",
    "    Types of categorical data:\n",
    "\n",
    "     - Ordinal data:\n",
    "\n",
    "       Ordinal data is  a type of categorical data that represents order categories or ranks where order or ranking has meaning, but interval between them are well not defined or equal.\n",
    "\n",
    "     - Nominal data:\n",
    "     \n",
    "       Nominal data is type of data that represents distinct categories or labels for different groups and categories."
   ]
  },
  {
   "cell_type": "code",
   "execution_count": null,
   "metadata": {},
   "outputs": [],
   "source": []
  }
 ],
 "metadata": {
  "language_info": {
   "name": "python"
  }
 },
 "nbformat": 4,
 "nbformat_minor": 2
}
